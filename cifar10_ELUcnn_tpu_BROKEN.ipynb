{
  "nbformat": 4,
  "nbformat_minor": 0,
  "metadata": {
    "colab": {
      "name": "cifar10_cnn_tpu.ipynb",
      "version": "0.3.2",
      "provenance": [],
      "include_colab_link": true
    },
    "kernelspec": {
      "name": "python3",
      "display_name": "Python 3"
    },
    "accelerator": "TPU"
  },
  "cells": [
    {
      "cell_type": "markdown",
      "metadata": {
        "id": "view-in-github",
        "colab_type": "text"
      },
      "source": [
        "<a href=\"https://colab.research.google.com/github/valentinocc/Keras_cifar10/blob/master/cifar10_ELUcnn_tpu_BROKEN.ipynb\" target=\"_parent\"><img src=\"https://colab.research.google.com/assets/colab-badge.svg\" alt=\"Open In Colab\"/></a>"
      ]
    },
    {
      "cell_type": "code",
      "metadata": {
        "id": "FfqMtqZTIueE",
        "colab_type": "code",
        "colab": {}
      },
      "source": [
        "#!/usr/bin/env python3\n",
        "# -*- coding: utf-8 -*-\n",
        "\"\"\"\n",
        "Created on Wed May 29 10:42:05 2019\n",
        "\n",
        "@author: val\n",
        "\n",
        "basic CNN for cifar10 dataset\n",
        "\"\"\"\n",
        "import numpy as np\n",
        "import tensorflow as tf\n",
        "from tensorflow import keras\n",
        "import os\n",
        "from datetime import datetime\n",
        "from sklearn.model_selection import train_test_split\n",
        "%load_ext tensorboard.notebook"
      ],
      "execution_count": 0,
      "outputs": []
    },
    {
      "cell_type": "code",
      "metadata": {
        "id": "uCmSdbNYIzJ-",
        "colab_type": "code",
        "colab": {}
      },
      "source": [
        "def model(input_shape):\n",
        "\n",
        "    model = tf.keras.models.Sequential()\n",
        "    convolution_elu_block(model, 32, (3, 3), 'same', input_shape = input_shape, first_layer = True)\n",
        "    convolution_elu_block(model, 32, (3, 3), 'same')\n",
        "    model.add(tf.keras.layers.MaxPooling2D(pool_size = (2, 2), strides = (2, 2)))\n",
        "    \n",
        "    convolution_elu_block(model, 64, (3, 3), 'same')\n",
        "    convolution_elu_block(model, 64, (3, 3), 'same')\n",
        "    model.add(tf.keras.layers.MaxPooling2D(pool_size = (2, 2), strides = (2, 2)))\n",
        "    \n",
        "    model.add(tf.keras.layers.Flatten())\n",
        "    dense_elu_block(model, 256)\n",
        "    final_dense_layer(model, 10)\n",
        "    \n",
        "    model.summary()\n",
        "    \n",
        "    return model\n",
        "\n",
        "def convolution_elu_block(model, filters, filter_shape, padding_setting, input_shape = None, first_layer = False):\n",
        "\n",
        "    if (first_layer):\n",
        "        model.add(tf.keras.layers.Conv2D(filters, filter_shape, padding = padding_setting, data_format = 'channels_last', input_shape = input_shape))\n",
        "    else:\n",
        "        model.add(tf.keras.layers.Conv2D(filters, filter_shape, padding = padding_setting))\n",
        "    \n",
        "    model.add(tf.keras.layers.Activation('elu'))\n",
        "\n",
        "def dense_elu_block(model, units):\n",
        "    \n",
        "    model.add(tf.keras.layers.Dense(units))\n",
        "    model.add(tf.keras.layers.Activation('elu'))\n",
        "    \n",
        "def final_dense_layer(model, classes_amount):\n",
        "    model.add(tf.keras.layers.Dense(classes_amount))\n",
        "    model.add(tf.keras.layers.Activation('softmax'))\n",
        "    "
      ],
      "execution_count": 0,
      "outputs": []
    },
    {
      "cell_type": "code",
      "metadata": {
        "id": "RnjT3HIFI2nt",
        "colab_type": "code",
        "colab": {}
      },
      "source": [
        "(x_train, y_train), (x_test, y_test) = tf.keras.datasets.cifar10.load_data()\n",
        "x_train, x_valid, y_train, y_valid = train_test_split(x_train, y_train, test_size=0.006*8, shuffle= True)\n"
      ],
      "execution_count": 0,
      "outputs": []
    },
    {
      "cell_type": "code",
      "metadata": {
        "id": "_ODf825uM8Fr",
        "colab_type": "code",
        "colab": {}
      },
      "source": [
        "input_shape = x_train.shape[1:]\n",
        "keras_model = model(input_shape)\n",
        "\n",
        "#create TensorBoard callback\n",
        "logdir=\"logs/scalars/\" + datetime.now().strftime(\"%Y%m%d-%H%M%S\")\n",
        "tensorboard_callback = keras.callbacks.TensorBoard(log_dir=logdir)\n",
        "\n",
        "TPU_WORKER = 'grpc://' + os.environ['COLAB_TPU_ADDR']\n",
        "tpu_model = tf.contrib.tpu.keras_to_tpu_model(keras_model, strategy = tf.contrib.tpu.TPUDistributionStrategy(tf.contrib.cluster_resolver.TPUClusterResolver(tpu = TPU_WORKER)))\n",
        "tpu_model.compile( optimizer = tf.train.AdamOptimizer(learning_rate = 1e-3), loss = tf.keras.losses.sparse_categorical_crossentropy, metrics = ['sparse_categorical_accuracy'])"
      ],
      "execution_count": 0,
      "outputs": []
    },
    {
      "cell_type": "code",
      "metadata": {
        "id": "QmJ39OFxWYI0",
        "colab_type": "code",
        "colab": {}
      },
      "source": [
        "model_convergence_data = tpu_model.fit(x_train, y_train, epochs = 20, batch_size = 32*8, validation_data = (x_valid, y_valid), verbose=1, callbacks=[tensorboard_callback])\n",
        "tpu_model.evaluate(x_test, y_test, batch_size = 32*8)\n",
        "tpu_model.save_weights('./tpu_model_weights.h5', overwrite = True)"
      ],
      "execution_count": 0,
      "outputs": []
    },
    {
      "cell_type": "code",
      "metadata": {
        "id": "VZPGFdAN-Dnu",
        "colab_type": "code",
        "colab": {}
      },
      "source": [
        "%tensorboard --logdir logs/scalars"
      ],
      "execution_count": 0,
      "outputs": []
    }
  ]
}