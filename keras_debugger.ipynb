{
  "nbformat": 4,
  "nbformat_minor": 0,
  "metadata": {
    "colab": {
      "name": "keras_debugger.ipynb",
      "version": "0.3.2",
      "provenance": [],
      "include_colab_link": true
    },
    "kernelspec": {
      "name": "python3",
      "display_name": "Python 3"
    }
  },
  "cells": [
    {
      "cell_type": "markdown",
      "metadata": {
        "id": "view-in-github",
        "colab_type": "text"
      },
      "source": [
        "<a href=\"https://colab.research.google.com/github/valentinocc/Keras_cifar10/blob/master/keras_debugger.ipynb\" target=\"_parent\"><img src=\"https://colab.research.google.com/assets/colab-badge.svg\" alt=\"Open In Colab\"/></a>"
      ]
    },
    {
      "cell_type": "code",
      "metadata": {
        "id": "mveGJfRjY6Q8",
        "colab_type": "code",
        "colab": {}
      },
      "source": [
        "#plot activations of a layer\n",
        "import tensorflow as tf\n",
        "from matplotlib import pyplot\n",
        "from tf.keras import backend as K\n",
        "\n",
        "class layer_activations_graph(tf.keras.callbacks.Callback):\n",
        "  \n",
        "  def __init__(self, layer_name, epochs_amount, constant_datapoint)\n",
        "    self.layer_name = layer_name\n",
        "    self.epochs_amount = epochs_amount\n",
        "    self.layer_activations_matrix = layer_activations_matrix\n",
        "    self.constant_datapoint = constant_datapoint\n",
        "    \n",
        "    layer_output_shape = model.get_layer(self.layer_name).output_shape\n",
        "    self.layers_activations_matrix = np.zeros((calc_flattened_shape(layer_output_shape), epochs_amount))\n",
        "\n",
        "  def on_epoch_end(self, epoch, logs=None):\n",
        "    layer_output = extract_layer_output()\n",
        "    layer_output = np.flatten(layer_output)\n",
        "    self.layer_activations_matrix[epoch, :] = layer_output\n",
        "  \n",
        "  def on_train_end(self, logs=None):\n",
        "    print()\n",
        "    pyplot.matshow(self.layer_activations_matrix)\n",
        "    pyplot.show()\n",
        "    \n",
        "  def extract_layer_output():\n",
        "    layer_output_fn = K.function([self.model.layers[0].input],\n",
        "                                 [self.model.get_layer(self.layer_name).output])\n",
        "\n",
        "    layer_output = layer_output_fn([self.constant_datapoint])\n",
        "\n",
        "    # layer_output.shape is (num_units, num_timesteps)\n",
        "    return layer_output[0]\n",
        "\n",
        "   def calc_flattened_shape(shape_tuple):\n",
        "      shape_product = 1\n",
        "      for i in shape_tuple:\n",
        "        if (i != None):\n",
        "          shape_product *= i\n",
        "       \n",
        "      return shape_product"
      ],
      "execution_count": 0,
      "outputs": []
    }
  ]
}