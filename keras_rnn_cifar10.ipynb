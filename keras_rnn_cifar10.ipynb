{
  "nbformat": 4,
  "nbformat_minor": 0,
  "metadata": {
    "colab": {
      "name": "keras_rnn_cifar10.ipynb",
      "version": "0.3.2",
      "provenance": [],
      "include_colab_link": true
    },
    "kernelspec": {
      "name": "python3",
      "display_name": "Python 3"
    }
  },
  "cells": [
    {
      "cell_type": "markdown",
      "metadata": {
        "id": "view-in-github",
        "colab_type": "text"
      },
      "source": [
        "<a href=\"https://colab.research.google.com/github/valentinocc/Keras_cifar10/blob/master/keras_rnn_cifar10.ipynb\" target=\"_parent\"><img src=\"https://colab.research.google.com/assets/colab-badge.svg\" alt=\"Open In Colab\"/></a>"
      ]
    },
    {
      "cell_type": "code",
      "metadata": {
        "id": "QxkRJkPl8Q-j",
        "colab_type": "code",
        "colab": {}
      },
      "source": [
        "import numpy as np\n",
        "import tensorflow as tf\n",
        "from tensorflow import keras\n",
        "import os\n",
        "from datetime import datetime\n",
        "from sklearn.model_selection import train_test_split\n",
        "from tensorflow.keras.preprocessing.image import ImageDataGenerator\n",
        "from tensorflow.keras.layers import Conv2D, Activation, add, MaxPooling2D\n",
        "%load_ext tensorboard.notebook"
      ],
      "execution_count": 0,
      "outputs": []
    },
    {
      "cell_type": "code",
      "metadata": {
        "id": "BjETuecY8XNC",
        "colab_type": "code",
        "colab": {}
      },
      "source": [
        "def residual_block(x, filter_amount, shrink=False):  \n",
        "\n",
        "  if (shrink):\n",
        "    x_input = MaxPooling2D(pool_size = (2, 2), strides = (2, 2))(x)\n",
        "    conv_elu_block(x, filter_amount, strides = (2, 2))\n",
        "    \n",
        "  else:\n",
        "    x_input = x\n",
        "    conv_elu_block(x, filter_amount)\n",
        "  \n",
        "  conv_elu_block(x, filter_amount)\n",
        "  \n",
        "  residual_block = add([x, x_input])\n",
        "  \n",
        "  \n",
        "  return residual_block\n",
        "  \n",
        "  \n",
        "  \n",
        "def conv_elu_block(x, filter_amount, strides = (1,1)):\n",
        "  \n",
        "  x = Conv2D(filter_amount, (3, 3), strides = strides, padding = 'same')(x)\n",
        "  x = Activation('elu')\n",
        "  \n",
        "  return x\n",
        "\n",
        "\n",
        "def residual_neural_network(image_input, stack_amount, class_amount):\n",
        "  \n",
        "  x = Conv2D(16, (3, 3), strides = (1, 1), padding = 'same')(image_input)\n",
        "  \n",
        "  for i in range(stack_amount):\n",
        "    x = residual_block(x, 16)\n",
        "  \n",
        "  x = residual_block(x, 16, shrink=True)\n",
        "  \n",
        "  for i in range(stack_amount):\n",
        "    x = residual_block(x, 32)\n",
        "  \n",
        "  x = residual_block(x, 32, shrink=True)\n",
        "  \n",
        "  for i in range(stack_amount):\n",
        "    x = residual_block(x, 64)\n",
        "    \n",
        "  x = Activation('elu')(x)\n",
        "  x = MaxPooling2D(pool_size = (2, 2), strides = (2, 2))(x)\n",
        "  x = Dense(class_amount, activation = 'softmax')\n",
        "  \n",
        "  return x\n",
        "\n",
        "\n",
        "  \n",
        "  "
      ],
      "execution_count": 0,
      "outputs": []
    }
  ]
}