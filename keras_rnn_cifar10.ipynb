{
  "nbformat": 4,
  "nbformat_minor": 0,
  "metadata": {
    "colab": {
      "name": "keras_rnn_cifar10.ipynb",
      "version": "0.3.2",
      "provenance": [],
      "include_colab_link": true
    },
    "kernelspec": {
      "name": "python3",
      "display_name": "Python 3"
    },
    "accelerator": "TPU"
  },
  "cells": [
    {
      "cell_type": "markdown",
      "metadata": {
        "id": "view-in-github",
        "colab_type": "text"
      },
      "source": [
        "<a href=\"https://colab.research.google.com/github/valentinocc/Keras_cifar10/blob/master/keras_rnn_cifar10.ipynb\" target=\"_parent\"><img src=\"https://colab.research.google.com/assets/colab-badge.svg\" alt=\"Open In Colab\"/></a>"
      ]
    },
    {
      "cell_type": "code",
      "metadata": {
        "id": "QxkRJkPl8Q-j",
        "colab_type": "code",
        "colab": {}
      },
      "source": [
        "!pip install tensorflow==1.13.1"
      ],
      "execution_count": 0,
      "outputs": []
    },
    {
      "cell_type": "code",
      "metadata": {
        "id": "y0UvsBKarT2t",
        "colab_type": "code",
        "colab": {}
      },
      "source": [
        "import numpy as np\n",
        "import tensorflow as tf\n",
        "from tensorflow import keras\n",
        "import os\n",
        "from datetime import datetime\n",
        "from sklearn.model_selection import train_test_split\n",
        "from tensorflow.keras.preprocessing.image import ImageDataGenerator\n",
        "from tensorflow.keras.layers import Conv2D, Activation, add, MaxPooling2D, Input, Dense, Flatten\n",
        "from tensorflow.keras.models import Model\n",
        "\n",
        "%load_ext tensorboard.notebook"
      ],
      "execution_count": 0,
      "outputs": []
    },
    {
      "cell_type": "code",
      "metadata": {
        "id": "BjETuecY8XNC",
        "colab_type": "code",
        "colab": {}
      },
      "source": [
        "def residual_block(x, filter_amount, project=False):  \n",
        "\n",
        "  if (project):#project x_input to the new dimensions\n",
        "    x_input = MaxPooling2D(pool_size = (2, 2), strides = (2, 2))(x)\n",
        "    x_input = Conv2D(filter_amount, (1, 1), strides = (1, 1), padding = 'same')(x_input)\n",
        "    x = conv_elu_block(x, filter_amount, strides = (2, 2))\n",
        "    \n",
        "  else:\n",
        "    x_input = x\n",
        "    x = conv_elu_block(x, filter_amount)\n",
        "  \n",
        "  x = conv_elu_block(x, filter_amount)\n",
        "  \n",
        "  residual_block = add([x, x_input])\n",
        "  \n",
        "  \n",
        "  return residual_block\n",
        "  \n",
        "  \n",
        "  \n",
        "def conv_elu_block(x, filter_amount, strides = (1,1)):\n",
        "  \n",
        "  x = Conv2D(filter_amount, (3, 3), strides = strides, padding = 'same')(x)\n",
        "  x = Activation('elu')(x)\n",
        "  \n",
        "  return x\n",
        "\n",
        "\n",
        "def residual_neural_network(image_input, stack_amount, class_amount):\n",
        "  \n",
        "  x = Conv2D(16, (3, 3), strides = (1, 1), padding = 'same')(image_input)\n",
        "  \n",
        "  for i in range(stack_amount):\n",
        "    x = residual_block(x, 16)\n",
        "  \n",
        "  x = residual_block(x, 32, project=True)\n",
        "  \n",
        "  for i in range(stack_amount):\n",
        "    x = residual_block(x, 32)\n",
        "  \n",
        "  x = residual_block(x, 64, project=True)\n",
        "  \n",
        "  for i in range(stack_amount):\n",
        "    x = residual_block(x, 64)\n",
        "    \n",
        "  x = Activation('elu')(x)\n",
        "  x = MaxPooling2D(pool_size = (2, 2), strides = (2, 2))(x)\n",
        "  x = Flatten()(x)\n",
        "  x = Dense(class_amount, activation = 'softmax')(x)\n",
        "  \n",
        "  return x\n",
        "\n",
        "def configure_augmented_data_generator(x_train):\n",
        "  data_generator = ImageDataGenerator(rotation_range = 5, width_shift_range = 0.15, height_shift_range = 0.15, zoom_range = 0.13, horizontal_flip = True)\n",
        "  data_generator.fit(x_train)\n",
        "  \n",
        "  return data_generator"
      ],
      "execution_count": 0,
      "outputs": []
    },
    {
      "cell_type": "code",
      "metadata": {
        "id": "n4mRW2KycAF2",
        "colab_type": "code",
        "colab": {}
      },
      "source": [
        "(x_train, y_train), (x_test, y_test) = tf.keras.datasets.cifar10.load_data()\n",
        "x_train, x_valid, y_train, y_valid = train_test_split(x_train, y_train, test_size=0.006*8, shuffle= True)"
      ],
      "execution_count": 0,
      "outputs": []
    },
    {
      "cell_type": "code",
      "metadata": {
        "id": "UaarhmZkcCjh",
        "colab_type": "code",
        "colab": {}
      },
      "source": [
        "INPUT_SHAPE = x_train.shape[1:]\n",
        "STACK_AMOUNT = 9\n",
        "CLASS_AMOUNT = 10\n",
        "\n",
        "image_input = Input(shape=INPUT_SHAPE)\n",
        "output = residual_neural_network(image_input, STACK_AMOUNT, CLASS_AMOUNT)\n",
        "ResNet = Model(image_input, output)"
      ],
      "execution_count": 0,
      "outputs": []
    },
    {
      "cell_type": "code",
      "metadata": {
        "id": "2hiHW_iWcJw7",
        "colab_type": "code",
        "colab": {}
      },
      "source": [
        "TPU_WORKER = 'grpc://' + os.environ['COLAB_TPU_ADDR']\n",
        "tpu_model = tf.contrib.tpu.keras_to_tpu_model(ResNet, strategy = tf.contrib.tpu.TPUDistributionStrategy(tf.contrib.cluster_resolver.TPUClusterResolver(tpu = TPU_WORKER)))\n",
        "tpu_model.compile( optimizer = tf.train.AdamOptimizer(learning_rate = 0.002), loss = tf.keras.losses.sparse_categorical_crossentropy, metrics = ['sparse_categorical_accuracy'])\n"
      ],
      "execution_count": 0,
      "outputs": []
    },
    {
      "cell_type": "code",
      "metadata": {
        "id": "7Jc51Dbac2MC",
        "colab_type": "code",
        "colab": {}
      },
      "source": [
        "EPOCHS = 5\n",
        "\n",
        "data_generator = configure_augmented_data_generator(x_train)\n",
        "tpu_model.fit_generator(data_generator.flow(x_train, y_train, batch_size = 32*8), steps_per_epoch = len(x_train) / (32*8), epochs=EPOCHS, validation_data = (x_valid, y_valid))\n",
        "tpu_model.evaluate(x_test, y_test, batch_size = 16*8)"
      ],
      "execution_count": 0,
      "outputs": []
    }
  ]
}